{
 "cells": [
  {
   "cell_type": "code",
   "execution_count": 1,
   "id": "9798c259",
   "metadata": {},
   "outputs": [],
   "source": [
    "import wmpaws\n",
    "import ipywidgets as widgets"
   ]
  },
  {
   "cell_type": "code",
   "execution_count": 2,
   "id": "aaf48bcd",
   "metadata": {},
   "outputs": [
    {
     "data": {
      "application/vnd.jupyter.widget-view+json": {
       "model_id": "d8fedfedbca94ed2b708af5fc8c762ee",
       "version_major": 2,
       "version_minor": 0
      },
      "text/plain": [
       "VBox(children=(Textarea(value='', description='Page title (article namespace)'), FloatText(value=0.0, descript…"
      ]
     },
     "metadata": {},
     "output_type": "display_data"
    }
   ],
   "source": [
    "page_title = widgets.Textarea(description='Page title (article namespace)')\n",
    "num_of_links = widgets.FloatText(disabled=True, description='Number of links')\n",
    "\n",
    "widgets.VBox([page_title, num_of_links])"
   ]
  },
  {
   "cell_type": "code",
   "execution_count": 3,
   "id": "f4474cee",
   "metadata": {},
   "outputs": [],
   "source": [
    "conn = wmpaws.connect('cswiki')\n",
    "def calculate_num_of_links(change):\n",
    "    with conn.cursor() as cur:\n",
    "        cur.execute('''\n",
    "        SELECT COUNT(*)\n",
    "        FROM pagelinks\n",
    "        WHERE\n",
    "                pl_from_namespace=0\n",
    "            AND pl_title=\"{page_title}\"\n",
    "        '''.format(\n",
    "            page_title=page_title.value\n",
    "        ))\n",
    "        count = cur.fetchall()[0][0]\n",
    "    num_of_links.value = count"
   ]
  },
  {
   "cell_type": "code",
   "execution_count": 4,
   "id": "2278d317",
   "metadata": {},
   "outputs": [],
   "source": [
    "page_title.observe(calculate_num_of_links, 'value')"
   ]
  }
 ],
 "metadata": {
  "kernelspec": {
   "display_name": "Python 3 (ipykernel)",
   "language": "python",
   "name": "python3"
  },
  "language_info": {
   "codemirror_mode": {
    "name": "ipython",
    "version": 3
   },
   "file_extension": ".py",
   "mimetype": "text/x-python",
   "name": "python",
   "nbconvert_exporter": "python",
   "pygments_lexer": "ipython3",
   "version": "3.8.10"
  }
 },
 "nbformat": 4,
 "nbformat_minor": 5
}
