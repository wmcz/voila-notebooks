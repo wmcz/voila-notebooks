{
 "cells": [
  {
   "cell_type": "markdown",
   "id": "c8a865ad",
   "metadata": {},
   "source": [
    "## Wikigap 2022 report ([source code](https://github.com/wmcz/voila-notebooks/blob/master/wikigap-2022-report.ipynb))\n",
    "\n",
    "### License statement\n",
    "Copyright 2022 Martin Urbanec (martin.urbanec@wikimedia.cz)\n",
    "\n",
    "Licensed under the Apache License, Version 2.0 (the \"License\"); you may not use this file except in compliance with the License. You may obtain a copy of the License at\n",
    "\n",
    "http://www.apache.org/licenses/LICENSE-2.0\n",
    "\n",
    "Unless required by applicable law or agreed to in writing, software distributed under the License is distributed on an \"AS IS\" BASIS, WITHOUT WARRANTIES OR CONDITIONS OF ANY KIND, either express or implied. See the License for the specific language governing permissions and limitations under the License."
   ]
  },
  {
   "cell_type": "code",
   "execution_count": 1,
   "id": "40700ab4",
   "metadata": {},
   "outputs": [],
   "source": [
    "from IPython.display import display, Markdown, Latex, HTML\n",
    "\n",
    "import os\n",
    "import requests\n",
    "from datetime import datetime\n",
    "\n",
    "import wmpaws\n",
    "import pandas as pd\n",
    "pd.set_option('display.max_rows', None)"
   ]
  },
  {
   "cell_type": "code",
   "execution_count": 2,
   "id": "e91701ff-2762-4e4a-b239-33b93545aecf",
   "metadata": {},
   "outputs": [],
   "source": [
    "!curl -s 'https://cs.wikipedia.org/w/index.php?title=Wikipedista:Martin_Urbanec/tmp&oldid=21174972&action=raw' | grep -o 'user=[-a-zA-Z0-9 ()]*' | cut -d= -f 2 > ~/data/wmcz-wikigap-2022-users.txt"
   ]
  },
  {
   "cell_type": "code",
   "execution_count": 3,
   "id": "5613d560-4a30-4df7-b977-a8944a5e3797",
   "metadata": {},
   "outputs": [],
   "source": [
    "users = open(os.path.expanduser('~/data/wmcz-wikigap-2022-users.txt')).read().split('\\n')\n",
    "users.pop()\n",
    "usersDf = pd.DataFrame({\n",
    "    'user_name': users\n",
    "})\n",
    "usersDf.set_index('user_name', inplace=True)"
   ]
  },
  {
   "cell_type": "markdown",
   "id": "d97abf7b-fdae-4a3e-bd2e-7d7606e70945",
   "metadata": {},
   "source": [
    "## Účastníci Wikigapu podle data registrace\n",
    "\n",
    "V této sekci reportu jsou zobrazeni účastníci Wikigapu podle jejich zkušeností na Wikipedii. Za nováčka jsou považováni uživatelé, kteří svůj účet vytvořili po 1. březnu 2022."
   ]
  },
  {
   "cell_type": "code",
   "execution_count": 4,
   "id": "79e91793-eb1c-4b0f-89f7-c6197e0700a5",
   "metadata": {},
   "outputs": [
    {
     "name": "stderr",
     "output_type": "stream",
     "text": [
      "/srv/paws/lib/python3.8/site-packages/pandas/io/sql.py:761: UserWarning: pandas only support SQLAlchemy connectable(engine/connection) ordatabase string URI or sqlite3 DBAPI2 connectionother DBAPI2 objects are not tested, please consider using SQLAlchemy\n",
      "  warnings.warn(\n"
     ]
    }
   ],
   "source": [
    "tenureDf = wmpaws.run_sql('''\n",
    "SELECT\n",
    "    user_name,\n",
    "    IF(user_registration > '20220301000000', 'Newcomer', 'Experienced') AS user_role\n",
    "FROM user\n",
    "WHERE\n",
    "        user_name IN ({users})\n",
    "    AND user_registration IS NOT NULL\n",
    "'''.format(\n",
    "    users=', '.join([\"'%s'\" % x for x in users])\n",
    "), 'cswiki')\n",
    "tenureAggDf = tenureDf.groupby('user_role').count().rename(columns={'user_name': 'count'})"
   ]
  },
  {
   "cell_type": "code",
   "execution_count": 5,
   "id": "ed93f75f-6e85-4b19-992c-3a2ec6679551",
   "metadata": {},
   "outputs": [
    {
     "data": {
      "image/png": "[encoded data removed]",
      "text/plain": [
       "<Figure size 576x576 with 1 Axes>"
      ]
     },
     "metadata": {},
     "output_type": "display_data"
    }
   ],
   "source": [
    "tenureAggDf.plot.pie(y='count', figsize=(8,8), title='Účastníci Wikigapu podle wiki-zkušeností');"
   ]
  },
  {
   "cell_type": "code",
   "execution_count": 6,
   "id": "e398402f-6b33-4dc0-bc4c-90f87c82a4ba",
   "metadata": {},
   "outputs": [
    {
     "data": {
      "text/html": [
       "<div>\n",
       "<style scoped>\n",
       "    .dataframe tbody tr th:only-of-type {\n",
       "        vertical-align: middle;\n",
       "    }\n",
       "\n",
       "    .dataframe tbody tr th {\n",
       "        vertical-align: top;\n",
       "    }\n",
       "\n",
       "    .dataframe thead th {\n",
       "        text-align: right;\n",
       "    }\n",
       "</style>\n",
       "<table border=\"1\" class=\"dataframe\">\n",
       "  <thead>\n",
       "    <tr style=\"text-align: right;\">\n",
       "      <th></th>\n",
       "      <th>count</th>\n",
       "    </tr>\n",
       "    <tr>\n",
       "      <th>user_role</th>\n",
       "      <th></th>\n",
       "    </tr>\n",
       "  </thead>\n",
       "  <tbody>\n",
       "    <tr>\n",
       "      <th>Experienced</th>\n",
       "      <td>47</td>\n",
       "    </tr>\n",
       "    <tr>\n",
       "      <th>Newcomer</th>\n",
       "      <td>9</td>\n",
       "    </tr>\n",
       "  </tbody>\n",
       "</table>\n",
       "</div>"
      ],
      "text/plain": [
       "             count\n",
       "user_role         \n",
       "Experienced     47\n",
       "Newcomer         9"
      ]
     },
     "execution_count": 6,
     "metadata": {},
     "output_type": "execute_result"
    }
   ],
   "source": [
    "tenureAggDf"
   ]
  },
  {
   "cell_type": "markdown",
   "id": "5945b147-b36c-4b0a-9919-416c0d5899a8",
   "metadata": {},
   "source": [
    "## Účastníci Wikigapu podle pohlaví\n",
    "\n",
    "Pohlaví je použito podle informace uložené v [uživatelských nastaveních na české Wikipedii](https://cs.wikipedia.org/wiki/Special:Preferences). Výrazná většina uživatelů tento parametr nemá vyplněný – toto je třeba při vnímání reportu mít na paměti."
   ]
  },
  {
   "cell_type": "code",
   "execution_count": 7,
   "id": "8635ef31-c948-4148-96c0-ea8b946e3cfe",
   "metadata": {},
   "outputs": [
    {
     "name": "stderr",
     "output_type": "stream",
     "text": [
      "/srv/paws/lib/python3.8/site-packages/pandas/io/sql.py:761: UserWarning: pandas only support SQLAlchemy connectable(engine/connection) ordatabase string URI or sqlite3 DBAPI2 connectionother DBAPI2 objects are not tested, please consider using SQLAlchemy\n",
      "  warnings.warn(\n"
     ]
    }
   ],
   "source": [
    "gendersDf = wmpaws.run_sql('''\n",
    "SELECT user_name, up_value AS gender\n",
    "FROM user_properties\n",
    "JOIN user ON up_user=user_id\n",
    "WHERE\n",
    "    up_property='gender'\n",
    "    AND user_name IN ({users})\n",
    "'''.format(\n",
    "    users=', '.join([\"'%s'\" % x for x in users])\n",
    "), 'cswiki')\n",
    "gendersDf.set_index('user_name', inplace=True)\n",
    "gendersDf = usersDf.join(gendersDf).reset_index().fillna('unknown')\n",
    "gendersAggDf = gendersDf.reset_index(drop=True).groupby('gender').count().rename(columns={'user_name': 'count'})"
   ]
  },
  {
   "cell_type": "code",
   "execution_count": 8,
   "id": "3a908f75-50bc-4a4e-af17-e27a727ba7bf",
   "metadata": {},
   "outputs": [
    {
     "data": {
      "image/png": "[encoded data removed]",
      "text/plain": [
       "<Figure size 576x576 with 1 Axes>"
      ]
     },
     "metadata": {},
     "output_type": "display_data"
    }
   ],
   "source": [
    "gendersAggDf.plot.pie(y='count', title='Účastníci na Wikigapu podle pohlaví', figsize=(8,8));"
   ]
  }
 ],
 "metadata": {
  "kernelspec": {
   "display_name": "Python 3 (ipykernel)",
   "language": "python",
   "name": "python3"
  },
  "language_info": {
   "codemirror_mode": {
    "name": "ipython",
    "version": 3
   },
   "file_extension": ".py",
   "mimetype": "text/x-python",
   "name": "python",
   "nbconvert_exporter": "python",
   "pygments_lexer": "ipython3",
   "version": "3.8.10"
  }
 },
 "nbformat": 4,
 "nbformat_minor": 5
}
